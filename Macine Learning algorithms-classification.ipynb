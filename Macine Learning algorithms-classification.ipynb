{
 "cells": [
  {
   "cell_type": "code",
   "execution_count": 1,
   "metadata": {},
   "outputs": [
    {
     "data": {
      "text/html": [
       "<div>\n",
       "<style scoped>\n",
       "    .dataframe tbody tr th:only-of-type {\n",
       "        vertical-align: middle;\n",
       "    }\n",
       "\n",
       "    .dataframe tbody tr th {\n",
       "        vertical-align: top;\n",
       "    }\n",
       "\n",
       "    .dataframe thead th {\n",
       "        text-align: right;\n",
       "    }\n",
       "</style>\n",
       "<table border=\"1\" class=\"dataframe\">\n",
       "  <thead>\n",
       "    <tr style=\"text-align: right;\">\n",
       "      <th></th>\n",
       "      <th>Pregnancies</th>\n",
       "      <th>Glucose</th>\n",
       "      <th>BloodPressure</th>\n",
       "      <th>SkinThickness</th>\n",
       "      <th>Insulin</th>\n",
       "      <th>BMI</th>\n",
       "      <th>DiabetesPedigreeFunction</th>\n",
       "      <th>Age</th>\n",
       "      <th>Outcome</th>\n",
       "    </tr>\n",
       "  </thead>\n",
       "  <tbody>\n",
       "    <tr>\n",
       "      <th>0</th>\n",
       "      <td>6</td>\n",
       "      <td>148</td>\n",
       "      <td>72</td>\n",
       "      <td>35</td>\n",
       "      <td>0</td>\n",
       "      <td>33.6</td>\n",
       "      <td>0.627</td>\n",
       "      <td>50</td>\n",
       "      <td>1</td>\n",
       "    </tr>\n",
       "    <tr>\n",
       "      <th>1</th>\n",
       "      <td>1</td>\n",
       "      <td>85</td>\n",
       "      <td>66</td>\n",
       "      <td>29</td>\n",
       "      <td>0</td>\n",
       "      <td>26.6</td>\n",
       "      <td>0.351</td>\n",
       "      <td>31</td>\n",
       "      <td>0</td>\n",
       "    </tr>\n",
       "    <tr>\n",
       "      <th>2</th>\n",
       "      <td>8</td>\n",
       "      <td>183</td>\n",
       "      <td>64</td>\n",
       "      <td>0</td>\n",
       "      <td>0</td>\n",
       "      <td>23.3</td>\n",
       "      <td>0.672</td>\n",
       "      <td>32</td>\n",
       "      <td>1</td>\n",
       "    </tr>\n",
       "    <tr>\n",
       "      <th>3</th>\n",
       "      <td>1</td>\n",
       "      <td>89</td>\n",
       "      <td>66</td>\n",
       "      <td>23</td>\n",
       "      <td>94</td>\n",
       "      <td>28.1</td>\n",
       "      <td>0.167</td>\n",
       "      <td>21</td>\n",
       "      <td>0</td>\n",
       "    </tr>\n",
       "    <tr>\n",
       "      <th>4</th>\n",
       "      <td>0</td>\n",
       "      <td>137</td>\n",
       "      <td>40</td>\n",
       "      <td>35</td>\n",
       "      <td>168</td>\n",
       "      <td>43.1</td>\n",
       "      <td>2.288</td>\n",
       "      <td>33</td>\n",
       "      <td>1</td>\n",
       "    </tr>\n",
       "  </tbody>\n",
       "</table>\n",
       "</div>"
      ],
      "text/plain": [
       "   Pregnancies  Glucose  BloodPressure  SkinThickness  Insulin   BMI  \\\n",
       "0            6      148             72             35        0  33.6   \n",
       "1            1       85             66             29        0  26.6   \n",
       "2            8      183             64              0        0  23.3   \n",
       "3            1       89             66             23       94  28.1   \n",
       "4            0      137             40             35      168  43.1   \n",
       "\n",
       "   DiabetesPedigreeFunction  Age  Outcome  \n",
       "0                     0.627   50        1  \n",
       "1                     0.351   31        0  \n",
       "2                     0.672   32        1  \n",
       "3                     0.167   21        0  \n",
       "4                     2.288   33        1  "
      ]
     },
     "execution_count": 1,
     "metadata": {},
     "output_type": "execute_result"
    }
   ],
   "source": [
    "\n",
    "# import packages \n",
    "import pandas as pd \n",
    "\n",
    "\n",
    "#  read data set \n",
    "\n",
    "df = pd.read_csv(\"D:/files/diabetesIndia.csv\")\n",
    "\n",
    "# it will construct a data frame \n",
    "\n",
    "df.head()\n"
   ]
  },
  {
   "cell_type": "code",
   "execution_count": 2,
   "metadata": {},
   "outputs": [],
   "source": [
    "# before dividing the data into trainset and test set \n",
    "\n",
    "# seperate inputs and outputs \n",
    "\n",
    "#  pregencies ----- age  === featutes or inputs \n",
    "#  outcome   -------------- output variable / label \n",
    "\n",
    "x  = df.iloc[ : , 0:8 ]\n",
    "\n",
    "y  = df.iloc[: , 8]  # df.iloc[: , -1]\n",
    "\n",
    "# y  = df.iloc[: , -1]\n",
    "\n",
    "#  df.iloc\n",
    "# data framew is a two dimension   rows columns \n",
    "#  df.iloc [ srow : erow , scolumn : ecolumn ]\n",
    "\n"
   ]
  },
  {
   "cell_type": "code",
   "execution_count": 3,
   "metadata": {},
   "outputs": [
    {
     "data": {
      "text/html": [
       "<div>\n",
       "<style scoped>\n",
       "    .dataframe tbody tr th:only-of-type {\n",
       "        vertical-align: middle;\n",
       "    }\n",
       "\n",
       "    .dataframe tbody tr th {\n",
       "        vertical-align: top;\n",
       "    }\n",
       "\n",
       "    .dataframe thead th {\n",
       "        text-align: right;\n",
       "    }\n",
       "</style>\n",
       "<table border=\"1\" class=\"dataframe\">\n",
       "  <thead>\n",
       "    <tr style=\"text-align: right;\">\n",
       "      <th></th>\n",
       "      <th>Pregnancies</th>\n",
       "      <th>Glucose</th>\n",
       "      <th>BloodPressure</th>\n",
       "      <th>SkinThickness</th>\n",
       "      <th>Insulin</th>\n",
       "      <th>BMI</th>\n",
       "      <th>DiabetesPedigreeFunction</th>\n",
       "      <th>Age</th>\n",
       "    </tr>\n",
       "  </thead>\n",
       "  <tbody>\n",
       "    <tr>\n",
       "      <th>0</th>\n",
       "      <td>6</td>\n",
       "      <td>148</td>\n",
       "      <td>72</td>\n",
       "      <td>35</td>\n",
       "      <td>0</td>\n",
       "      <td>33.6</td>\n",
       "      <td>0.627</td>\n",
       "      <td>50</td>\n",
       "    </tr>\n",
       "    <tr>\n",
       "      <th>1</th>\n",
       "      <td>1</td>\n",
       "      <td>85</td>\n",
       "      <td>66</td>\n",
       "      <td>29</td>\n",
       "      <td>0</td>\n",
       "      <td>26.6</td>\n",
       "      <td>0.351</td>\n",
       "      <td>31</td>\n",
       "    </tr>\n",
       "    <tr>\n",
       "      <th>2</th>\n",
       "      <td>8</td>\n",
       "      <td>183</td>\n",
       "      <td>64</td>\n",
       "      <td>0</td>\n",
       "      <td>0</td>\n",
       "      <td>23.3</td>\n",
       "      <td>0.672</td>\n",
       "      <td>32</td>\n",
       "    </tr>\n",
       "    <tr>\n",
       "      <th>3</th>\n",
       "      <td>1</td>\n",
       "      <td>89</td>\n",
       "      <td>66</td>\n",
       "      <td>23</td>\n",
       "      <td>94</td>\n",
       "      <td>28.1</td>\n",
       "      <td>0.167</td>\n",
       "      <td>21</td>\n",
       "    </tr>\n",
       "    <tr>\n",
       "      <th>4</th>\n",
       "      <td>0</td>\n",
       "      <td>137</td>\n",
       "      <td>40</td>\n",
       "      <td>35</td>\n",
       "      <td>168</td>\n",
       "      <td>43.1</td>\n",
       "      <td>2.288</td>\n",
       "      <td>33</td>\n",
       "    </tr>\n",
       "    <tr>\n",
       "      <th>...</th>\n",
       "      <td>...</td>\n",
       "      <td>...</td>\n",
       "      <td>...</td>\n",
       "      <td>...</td>\n",
       "      <td>...</td>\n",
       "      <td>...</td>\n",
       "      <td>...</td>\n",
       "      <td>...</td>\n",
       "    </tr>\n",
       "    <tr>\n",
       "      <th>763</th>\n",
       "      <td>10</td>\n",
       "      <td>101</td>\n",
       "      <td>76</td>\n",
       "      <td>48</td>\n",
       "      <td>180</td>\n",
       "      <td>32.9</td>\n",
       "      <td>0.171</td>\n",
       "      <td>63</td>\n",
       "    </tr>\n",
       "    <tr>\n",
       "      <th>764</th>\n",
       "      <td>2</td>\n",
       "      <td>122</td>\n",
       "      <td>70</td>\n",
       "      <td>27</td>\n",
       "      <td>0</td>\n",
       "      <td>36.8</td>\n",
       "      <td>0.340</td>\n",
       "      <td>27</td>\n",
       "    </tr>\n",
       "    <tr>\n",
       "      <th>765</th>\n",
       "      <td>5</td>\n",
       "      <td>121</td>\n",
       "      <td>72</td>\n",
       "      <td>23</td>\n",
       "      <td>112</td>\n",
       "      <td>26.2</td>\n",
       "      <td>0.245</td>\n",
       "      <td>30</td>\n",
       "    </tr>\n",
       "    <tr>\n",
       "      <th>766</th>\n",
       "      <td>1</td>\n",
       "      <td>126</td>\n",
       "      <td>60</td>\n",
       "      <td>0</td>\n",
       "      <td>0</td>\n",
       "      <td>30.1</td>\n",
       "      <td>0.349</td>\n",
       "      <td>47</td>\n",
       "    </tr>\n",
       "    <tr>\n",
       "      <th>767</th>\n",
       "      <td>1</td>\n",
       "      <td>93</td>\n",
       "      <td>70</td>\n",
       "      <td>31</td>\n",
       "      <td>0</td>\n",
       "      <td>30.4</td>\n",
       "      <td>0.315</td>\n",
       "      <td>23</td>\n",
       "    </tr>\n",
       "  </tbody>\n",
       "</table>\n",
       "<p>768 rows × 8 columns</p>\n",
       "</div>"
      ],
      "text/plain": [
       "     Pregnancies  Glucose  BloodPressure  SkinThickness  Insulin   BMI  \\\n",
       "0              6      148             72             35        0  33.6   \n",
       "1              1       85             66             29        0  26.6   \n",
       "2              8      183             64              0        0  23.3   \n",
       "3              1       89             66             23       94  28.1   \n",
       "4              0      137             40             35      168  43.1   \n",
       "..           ...      ...            ...            ...      ...   ...   \n",
       "763           10      101             76             48      180  32.9   \n",
       "764            2      122             70             27        0  36.8   \n",
       "765            5      121             72             23      112  26.2   \n",
       "766            1      126             60              0        0  30.1   \n",
       "767            1       93             70             31        0  30.4   \n",
       "\n",
       "     DiabetesPedigreeFunction  Age  \n",
       "0                       0.627   50  \n",
       "1                       0.351   31  \n",
       "2                       0.672   32  \n",
       "3                       0.167   21  \n",
       "4                       2.288   33  \n",
       "..                        ...  ...  \n",
       "763                     0.171   63  \n",
       "764                     0.340   27  \n",
       "765                     0.245   30  \n",
       "766                     0.349   47  \n",
       "767                     0.315   23  \n",
       "\n",
       "[768 rows x 8 columns]"
      ]
     },
     "execution_count": 3,
     "metadata": {},
     "output_type": "execute_result"
    }
   ],
   "source": [
    "x"
   ]
  },
  {
   "cell_type": "code",
   "execution_count": 4,
   "metadata": {},
   "outputs": [
    {
     "data": {
      "text/plain": [
       "0      1\n",
       "1      0\n",
       "2      1\n",
       "3      0\n",
       "4      1\n",
       "      ..\n",
       "763    0\n",
       "764    0\n",
       "765    0\n",
       "766    1\n",
       "767    0\n",
       "Name: Outcome, Length: 768, dtype: int64"
      ]
     },
     "execution_count": 4,
     "metadata": {},
     "output_type": "execute_result"
    }
   ],
   "source": [
    "y"
   ]
  },
  {
   "cell_type": "code",
   "execution_count": 5,
   "metadata": {},
   "outputs": [],
   "source": [
    "#  import package train_test_Split \n",
    "\n",
    "from sklearn.model_selection import train_test_split \n",
    "\n",
    "#  pass both inputs and outputs \n",
    "#  input  train and test \n",
    "#  output also with tran and test set \n",
    "\n",
    "x_train , x_test , y_train , y_test =train_test_split(x,y,test_size = 0.2 )    # train_size      \n",
    "\n",
    "# test_size = 0.2   train size = 80   test = 20 % \n",
    "\n",
    "# test_size = 0.3 train size = 70   test = 30 % \n",
    "\n",
    "#  x    x_train , x_test \n",
    "#  y    y_train , y_test \n",
    "\n",
    "# "
   ]
  },
  {
   "cell_type": "code",
   "execution_count": 6,
   "metadata": {},
   "outputs": [
    {
     "data": {
      "text/plain": [
       "(768, 9)"
      ]
     },
     "execution_count": 6,
     "metadata": {},
     "output_type": "execute_result"
    }
   ],
   "source": [
    "df.shape"
   ]
  },
  {
   "cell_type": "code",
   "execution_count": 7,
   "metadata": {},
   "outputs": [
    {
     "name": "stdout",
     "output_type": "stream",
     "text": [
      "(614, 8)\n",
      "(154, 8)\n",
      "(614,)\n",
      "(154,)\n"
     ]
    }
   ],
   "source": [
    "print(x_train.shape)\n",
    "print(x_test.shape)\n",
    "print(y_train.shape)\n",
    "print(y_test.shape)"
   ]
  },
  {
   "cell_type": "code",
   "execution_count": 8,
   "metadata": {},
   "outputs": [],
   "source": [
    "\n",
    "#   3. shuffle the data , keep 70 to 80% for training , remaining 20 to\n",
    "#30% for testing \n",
    "\n",
    "\n",
    "#x_train , x_test , y_train , y_test =train_test_split(x,y,test_size = 0.2 )\n",
    "\n",
    "# by default = shuffle true \n",
    "\n",
    "#     shuffle  =  False \n",
    "\n"
   ]
  },
  {
   "cell_type": "code",
   "execution_count": 10,
   "metadata": {},
   "outputs": [
    {
     "name": "stdout",
     "output_type": "stream",
     "text": [
      "      features        Score\n",
      "4      Insulin  2175.565273\n",
      "1      Glucose  1411.887041\n",
      "7          Age   181.303689\n",
      "5          BMI   127.669343\n",
      "0  Pregnancies   111.519691\n"
     ]
    }
   ],
   "source": [
    "\n",
    "# feature selection \n",
    "# if there are lot of features\n",
    "\n",
    "from sklearn.feature_selection import SelectKBest,chi2\n",
    "from sklearn.feature_selection import chi2\n",
    "bestfeatures = SelectKBest(score_func=chi2,k=5)\n",
    "# to fit the model \n",
    "results=bestfeatures.fit(x,y)\n",
    "\n",
    "scores = pd.DataFrame(results.scores_)\n",
    "columns = pd.DataFrame(x.columns)\n",
    "featurescores = pd.concat([columns,scores],axis=1)\n",
    "\n",
    "featurescores.columns= [\"features\",\"Score\"]\n",
    "print(featurescores.nlargest(5,\"Score\"))\n",
    "\n",
    "# this step is optional because i have only limited features "
   ]
  },
  {
   "cell_type": "code",
   "execution_count": 11,
   "metadata": {},
   "outputs": [
    {
     "data": {
      "image/png": "[encoded data removed]",
      "text/plain": [
       "<Figure size 1440x1440 with 2 Axes>"
      ]
     },
     "metadata": {
      "needs_background": "light"
     },
     "output_type": "display_data"
    }
   ],
   "source": [
    "import seaborn as sns\n",
    "import matplotlib.pyplot as plt\n",
    "\n",
    "corrmat = df.corr()\n",
    "top_features = corrmat.index \n",
    "plt.figure(figsize = (20,20))\n",
    "g=sns.heatmap(df[top_features].corr(),annot=True,cmap=\"YlGn\")"
   ]
  },
  {
   "cell_type": "code",
   "execution_count": 12,
   "metadata": {},
   "outputs": [
    {
     "data": {
      "text/plain": [
       "Pregnancies                 0\n",
       "Glucose                     0\n",
       "BloodPressure               0\n",
       "SkinThickness               0\n",
       "Insulin                     0\n",
       "BMI                         0\n",
       "DiabetesPedigreeFunction    0\n",
       "Age                         0\n",
       "Outcome                     0\n",
       "dtype: int64"
      ]
     },
     "execution_count": 12,
     "metadata": {},
     "output_type": "execute_result"
    }
   ],
   "source": [
    "# check any missing values \n",
    "# fillna , dropna \n",
    "\n",
    "#  mean  median mode   ffill bfill\n",
    "df.isnull().sum()"
   ]
  },
  {
   "cell_type": "code",
   "execution_count": 13,
   "metadata": {},
   "outputs": [],
   "source": [
    "\n",
    "# removing outliers \n",
    "# outliers    ===  un expected values \n",
    "\n",
    "# ur team , architect , client they will specify what are the un expected \n",
    "\n",
    "# diabetes data set \n",
    "\n",
    "# a live human being blood pressure cannot be zero \n",
    "\n"
   ]
  },
  {
   "cell_type": "code",
   "execution_count": 14,
   "metadata": {},
   "outputs": [
    {
     "name": "stdout",
     "output_type": "stream",
     "text": [
      "Total BP records with zero  35\n"
     ]
    }
   ],
   "source": [
    "print(\"Total BP records with zero \",df[df.BloodPressure==0].shape[0])"
   ]
  },
  {
   "cell_type": "code",
   "execution_count": 15,
   "metadata": {},
   "outputs": [
    {
     "name": "stdout",
     "output_type": "stream",
     "text": [
      "Total Insulin records with zero  374\n"
     ]
    }
   ],
   "source": [
    "print(\"Total Insulin records with zero \",df[df.Insulin==0].shape[0])"
   ]
  },
  {
   "cell_type": "code",
   "execution_count": 16,
   "metadata": {},
   "outputs": [
    {
     "name": "stdout",
     "output_type": "stream",
     "text": [
      "Total BMI records with zero  11\n"
     ]
    }
   ],
   "source": [
    "print(\"Total BMI records with zero \",df[df.BMI==0].shape[0])"
   ]
  },
  {
   "cell_type": "code",
   "execution_count": 17,
   "metadata": {},
   "outputs": [],
   "source": [
    "\n",
    "# select the records where BP ! =0 bmi !=0 gluse!=0\n",
    "\n",
    "df_new = df[(df.BloodPressure!=0)&(df.BMI!=0) &(df.Glucose!=0)]"
   ]
  },
  {
   "cell_type": "code",
   "execution_count": 18,
   "metadata": {},
   "outputs": [
    {
     "data": {
      "text/plain": [
       "(724, 9)"
      ]
     },
     "execution_count": 18,
     "metadata": {},
     "output_type": "execute_result"
    }
   ],
   "source": [
    "df_new.shape"
   ]
  },
  {
   "cell_type": "code",
   "execution_count": 19,
   "metadata": {},
   "outputs": [
    {
     "data": {
      "text/plain": [
       "(768, 9)"
      ]
     },
     "execution_count": 19,
     "metadata": {},
     "output_type": "execute_result"
    }
   ],
   "source": [
    "df.shape"
   ]
  },
  {
   "cell_type": "code",
   "execution_count": 20,
   "metadata": {},
   "outputs": [
    {
     "name": "stdout",
     "output_type": "stream",
     "text": [
      "0.7597402597402597\n"
     ]
    }
   ],
   "source": [
    "# model construction \n",
    "\n",
    "# Decision tree classier \n",
    "\n",
    "from sklearn.tree import DecisionTreeClassifier \n",
    "\n",
    "# create an object for DT\n",
    "dt_model = DecisionTreeClassifier()\n",
    "\n",
    "# gini , entrpoy     ===  by default  gini \n",
    "\n",
    "# training the model \n",
    "# during training both inputs and ouput \n",
    "\n",
    "dt_model.fit(x_train,y_train)\n",
    "\n",
    "# during testing  only inputs \n",
    "\n",
    "pred = dt_model.predict(x_test)  # y_test \n",
    "\n",
    "# calculating accuracy \n",
    "from sklearn.metrics import accuracy_score \n",
    "score = accuracy_score(y_test,pred)\n",
    "print(score)\n",
    "\n",
    "#  67 % \n"
   ]
  },
  {
   "cell_type": "code",
   "execution_count": 21,
   "metadata": {},
   "outputs": [
    {
     "name": "stdout",
     "output_type": "stream",
     "text": [
      "0.7077922077922078\n"
     ]
    }
   ],
   "source": [
    "# parameter tunining in DT \n",
    "\n",
    "\n",
    "# model construction \n",
    "\n",
    "# Decision tree classier \n",
    "\n",
    "from sklearn.tree import DecisionTreeClassifier \n",
    "\n",
    "# create an object for DT\n",
    "# citerion \n",
    "dt_model = DecisionTreeClassifier(criterion='entropy') \n",
    "\n",
    "# training the model \n",
    "# during training both inputs and ouput \n",
    "\n",
    "dt_model.fit(x_train,y_train)\n",
    "\n",
    "# during testing  only inputs \n",
    "\n",
    "pred = dt_model.predict(x_test)  # y_test \n",
    "\n",
    "# calculating accuracy \n",
    "from sklearn.metrics import accuracy_score \n",
    "score = accuracy_score(y_test,pred)\n",
    "print(score)\n"
   ]
  },
  {
   "cell_type": "code",
   "execution_count": 24,
   "metadata": {},
   "outputs": [
    {
     "name": "stdout",
     "output_type": "stream",
     "text": [
      "0.7337662337662337\n"
     ]
    },
    {
     "name": "stderr",
     "output_type": "stream",
     "text": [
      "C:\\Users\\HP\\anaconda3\\lib\\site-packages\\sklearn\\linear_model\\_logistic.py:763: ConvergenceWarning: lbfgs failed to converge (status=1):\n",
      "STOP: TOTAL NO. of ITERATIONS REACHED LIMIT.\n",
      "\n",
      "Increase the number of iterations (max_iter) or scale the data as shown in:\n",
      "    https://scikit-learn.org/stable/modules/preprocessing.html\n",
      "Please also refer to the documentation for alternative solver options:\n",
      "    https://scikit-learn.org/stable/modules/linear_model.html#logistic-regression\n",
      "  n_iter_i = _check_optimize_result(\n"
     ]
    }
   ],
   "source": [
    "from sklearn.linear_model import LogisticRegression\n",
    "logreg = LogisticRegression()\n",
    "logreg.fit(x_train,y_train)\n",
    "pred = logreg.predict(x_test)\n",
    "score = accuracy_score(y_test,pred)\n",
    "print(score)"
   ]
  },
  {
   "cell_type": "code",
   "execution_count": 22,
   "metadata": {},
   "outputs": [
    {
     "data": {
      "text/plain": [
       "array([[81, 26],\n",
       "       [19, 28]], dtype=int64)"
      ]
     },
     "execution_count": 22,
     "metadata": {},
     "output_type": "execute_result"
    }
   ],
   "source": [
    "from sklearn.metrics import confusion_matrix\n",
    "confusion_matrix(y_test,pred)"
   ]
  },
  {
   "cell_type": "code",
   "execution_count": 33,
   "metadata": {},
   "outputs": [
    {
     "name": "stdout",
     "output_type": "stream",
     "text": [
      "0.7207792207792207\n"
     ]
    }
   ],
   "source": [
    "\n",
    "# max depth , min_samples_split , min_samples_lef \n",
    "\n",
    "\n",
    "from sklearn.tree import DecisionTreeClassifier \n",
    "\n",
    "# create an object for DT\n",
    "# citerion \n",
    "dt_model = DecisionTreeClassifier(max_depth=2) \n",
    "\n",
    "# training the model \n",
    "# during training both inputs and ouput \n",
    "\n",
    "dt_model.fit(x_train,y_train)\n",
    "\n",
    "# during testing  only inputs \n",
    "\n",
    "pred = dt_model.predict(x_test)  # y_test \n",
    "\n",
    "# calculating accuracy \n",
    "from sklearn.metrics import accuracy_score \n",
    "score = accuracy_score(y_test,pred)\n",
    "print(score)"
   ]
  },
  {
   "cell_type": "code",
   "execution_count": 34,
   "metadata": {},
   "outputs": [
    {
     "name": "stdout",
     "output_type": "stream",
     "text": [
      "0.7077922077922078\n"
     ]
    }
   ],
   "source": [
    "\n",
    "\n",
    "from sklearn.tree import DecisionTreeClassifier \n",
    "\n",
    "# create an object for DT\n",
    "# citerion \n",
    "dt_model = DecisionTreeClassifier(max_depth=10) \n",
    "\n",
    "# training the model \n",
    "# during training both inputs and ouput \n",
    "\n",
    "dt_model.fit(x_train,y_train)\n",
    "\n",
    "# during testing  only inputs \n",
    "\n",
    "pred = dt_model.predict(x_test)  # y_test \n",
    "\n",
    "# calculating accuracy \n",
    "from sklearn.metrics import accuracy_score \n",
    "score = accuracy_score(y_test,pred)\n",
    "print(score)"
   ]
  },
  {
   "cell_type": "code",
   "execution_count": 35,
   "metadata": {},
   "outputs": [
    {
     "name": "stdout",
     "output_type": "stream",
     "text": [
      "0.7012987012987013\n"
     ]
    }
   ],
   "source": [
    "from sklearn.tree import DecisionTreeClassifier \n",
    "\n",
    "# create an object for DT\n",
    "# citerion \n",
    "dt_model = DecisionTreeClassifier(min_samples_split=10) \n",
    "\n",
    "# training the model \n",
    "# during training both inputs and ouput \n",
    "\n",
    "dt_model.fit(x_train,y_train)\n",
    "\n",
    "# during testing  only inputs \n",
    "\n",
    "pred = dt_model.predict(x_test)  # y_test \n",
    "\n",
    "# calculating accuracy \n",
    "from sklearn.metrics import accuracy_score \n",
    "score = accuracy_score(y_test,pred)\n",
    "print(score)"
   ]
  },
  {
   "cell_type": "code",
   "execution_count": 20,
   "metadata": {},
   "outputs": [
    {
     "name": "stdout",
     "output_type": "stream",
     "text": [
      "0.7077922077922078\n"
     ]
    }
   ],
   "source": [
    "from sklearn.tree import DecisionTreeClassifier \n",
    "\n",
    "# create an object for DT\n",
    "# citerion \n",
    "dt_model = DecisionTreeClassifier(min_samples_split=100) \n",
    "\n",
    "# training the model \n",
    "# during training both inputs and ouput \n",
    "\n",
    "dt_model.fit(x_train,y_train)\n",
    "\n",
    "# during testing  only inputs \n",
    "\n",
    "pred = dt_model.predict(x_test)  # y_test \n",
    "\n",
    "# calculating accuracy \n",
    "from sklearn.metrics import accuracy_score \n",
    "score = accuracy_score(y_test,pred)\n",
    "print(score)"
   ]
  },
  {
   "cell_type": "code",
   "execution_count": 1,
   "metadata": {},
   "outputs": [],
   "source": [
    "\n",
    "\n",
    "# # Balancing the dataset \n",
    "\n",
    "# print(\"Total B records persons having diabetes \",df[df.Outcome==1].shape[0])\n",
    "# print(\"Total BP records without diabetes  \",df[df.Outcome==0].shape[0])"
   ]
  },
  {
   "cell_type": "code",
   "execution_count": 2,
   "metadata": {},
   "outputs": [],
   "source": [
    "# class 1  = 250 \n",
    "# class 0  = 500\n",
    "\n",
    "# imbalanced dataset \n",
    "\n",
    "# balancing \n",
    "# ==================\n",
    "\n",
    "# class 1  = 500    oversampling\n",
    "# class 0  = 500\n",
    "\n",
    "# class 1  = 250     undersampling\n",
    "\n",
    "# class 0  = 250"
   ]
  },
  {
   "cell_type": "code",
   "execution_count": 3,
   "metadata": {},
   "outputs": [],
   "source": [
    "# from imblearn.over_sampling import RandomOverSampler \n",
    "# from imblearn.under_sampling import RandomUnderSampler "
   ]
  },
  {
   "cell_type": "code",
   "execution_count": 4,
   "metadata": {},
   "outputs": [],
   "source": [
    "# from collections import Counter \n",
    "# ros = RandomOverSampler()\n",
    "# x_ros,y_ros = ros.fit_resample(x,y)\n",
    "# print(Counter(y_ros))"
   ]
  },
  {
   "cell_type": "code",
   "execution_count": 5,
   "metadata": {},
   "outputs": [],
   "source": [
    "# from collections import Counter \n",
    "# rus = RandomUnderSampler()\n",
    "# x_rus,y_rus = rus.fit_resample(x,y)\n",
    "# print(Counter(y_rus))"
   ]
  },
  {
   "cell_type": "code",
   "execution_count": 6,
   "metadata": {},
   "outputs": [],
   "source": [
    "# # oversampling dataset \n",
    "# x_train,x_test,y_train,y_test =train_test_split(x_ros,y_ros,test_size= 0.3)\n",
    "\n",
    "# from sklearn.tree import DecisionTreeClassifier \n",
    "\n",
    "# dt_model_over= DecisionTreeClassifier()\n",
    "\n",
    "# # training phase \n",
    "# dt_model_over.fit(x_train,y_train)\n",
    "\n",
    "# # testing\n",
    "# pred= dt_model_over.predict(x_test)\n",
    "\n",
    "# # accuracy\n",
    "# from sklearn.metrics import accuracy_score\n",
    "# score= accuracy_score(y_test,pred)\n",
    "# print(score)\n",
    "\n",
    "# # 80% of accuracy "
   ]
  },
  {
   "cell_type": "code",
   "execution_count": 7,
   "metadata": {},
   "outputs": [],
   "source": [
    "# # oversampling dataset \n",
    "# x_train,x_test,y_train,y_test =train_test_split(x_rus,y_rus,test_size= 0.3)\n",
    "\n",
    "# from sklearn.tree import DecisionTreeClassifier \n",
    "\n",
    "# dt_model_under= DecisionTreeClassifier()\n",
    "\n",
    "# # training phase \n",
    "# dt_model_under.fit(x_train,y_train)\n",
    "\n",
    "# # testing\n",
    "# pred= dt_model_under.predict(x_test)\n",
    "\n",
    "# # accuracy\n",
    "# from sklearn.metrics import accuracy_score\n",
    "# score= accuracy_score(y_test,pred)\n",
    "# print(score)\n"
   ]
  },
  {
   "cell_type": "code",
   "execution_count": 37,
   "metadata": {},
   "outputs": [
    {
     "name": "stdout",
     "output_type": "stream",
     "text": [
      "0.7619047619047619\n"
     ]
    }
   ],
   "source": [
    "\n",
    "from sklearn.ensemble import RandomForestClassifier\n",
    "\n",
    "# create an object for RFC\n",
    "rf_model = RandomForestClassifier()  # by default it will construct 50 trees\n",
    "\n",
    "# gini , entrpoy     ===  by default  gini \n",
    "\n",
    "# training the model \n",
    "# during training both inputs and ouput \n",
    "\n",
    "rf_model.fit(x_train,y_train)\n",
    "\n",
    "# during testing  only inputs \n",
    "\n",
    "pred = rf_model.predict(x_test)  # y_test \n",
    "\n",
    "# calculating accuracy \n",
    "from sklearn.metrics import accuracy_score \n",
    "score = accuracy_score(y_test,pred)\n",
    "print(score)\n",
    "\n",
    "# 75.75 "
   ]
  },
  {
   "cell_type": "code",
   "execution_count": 39,
   "metadata": {},
   "outputs": [
    {
     "name": "stdout",
     "output_type": "stream",
     "text": [
      "0.7922077922077922\n"
     ]
    }
   ],
   "source": [
    "# create an object for RFC\n",
    "rf_model = RandomForestClassifier(n_estimators=200)  # by default it will construct 50 trees\n",
    "\n",
    "# gini , entrpoy     ===  by default  gini \n",
    "\n",
    "# training the model \n",
    "# during training both inputs and ouput \n",
    "\n",
    "rf_model.fit(x_train,y_train)\n",
    "\n",
    "# during testing  only inputs \n",
    "\n",
    "pred = rf_model.predict(x_test)  # y_test \n",
    "\n",
    "# calculating accuracy \n",
    "from sklearn.metrics import accuracy_score \n",
    "score = accuracy_score(y_test,pred)\n",
    "print(score)"
   ]
  },
  {
   "cell_type": "code",
   "execution_count": 8,
   "metadata": {},
   "outputs": [],
   "source": [
    "\n",
    "# from imblearn.over_sampling import RandomOverSampler \n",
    "# from imblearn.under_sampling import RandomUnderSampler \n",
    "\n",
    "# from collections import Counter \n",
    "# ros = RandomOverSampler()\n",
    "# x_ros,y_ros = ros.fit_resample(x,y)\n",
    "\n",
    "# # oversampling dataset \n",
    "# x_train,x_test,y_train,y_test =train_test_split(x_ros,y_ros,test_size= 0.3)\n",
    "\n",
    "# from sklearn.ensemble import RandomForestClassifier\n",
    "\n",
    "# # create an object for RFC\n",
    "# rf_model = RandomForestClassifier()  # by default it will construct 50 trees\n",
    "\n",
    "# # gini , entrpoy     ===  by default  gini \n",
    "\n",
    "# # training the model \n",
    "# # during training both inputs and ouput \n",
    "\n",
    "# rf_model.fit(x_train,y_train)\n",
    "\n",
    "# # during testing  only inputs \n",
    "\n",
    "# pred = rf_model.predict(x_test)  # y_test \n",
    "\n",
    "# # calculating accuracy \n",
    "# from sklearn.metrics import accuracy_score \n",
    "# score = accuracy_score(y_test,pred)\n",
    "# print(score)\n",
    "\n",
    "# # 85 percent accuracy "
   ]
  },
  {
   "cell_type": "code",
   "execution_count": 40,
   "metadata": {},
   "outputs": [
    {
     "name": "stdout",
     "output_type": "stream",
     "text": [
      "0.6883116883116883\n"
     ]
    }
   ],
   "source": [
    "\n",
    "from sklearn.neighbors import KNeighborsClassifier \n",
    "\n",
    "knn_model = KNeighborsClassifier(n_neighbors=5,p=2,metric='minkowski')  # by default it will construct 50 trees\n",
    "\n",
    "# gini , entrpoy     ===  by default  gini \n",
    "\n",
    "# training the model \n",
    "# during training both inputs and ouput \n",
    "\n",
    "knn_model.fit(x_train,y_train)\n",
    "\n",
    "# during testing  only inputs \n",
    "\n",
    "pred = knn_model.predict(x_test)  # y_test \n",
    "\n",
    "# calculating accuracy \n",
    "from sklearn.metrics import accuracy_score \n",
    "score = accuracy_score(y_test,pred)\n",
    "print(score)\n"
   ]
  },
  {
   "cell_type": "code",
   "execution_count": 9,
   "metadata": {},
   "outputs": [],
   "source": [
    "# import pandas as pd\n",
    "# df = pd.read_csv(\"D:/files/diabetesIndia.csv\")\n",
    "\n",
    "# # Data set preparation \n",
    "# # train set and test set \n",
    "\n",
    "# from sklearn.model_selection import train_test_split \n",
    "# # train to train our model\n",
    "# # test set to test our model \n",
    "\n",
    "\n",
    "# from imblearn.over_sampling import RandomOverSampler \n",
    "# from imblearn.under_sampling import RandomUnderSampler \n",
    "\n",
    "# from collections import Counter \n",
    "# ros = RandomOverSampler()\n",
    "# x_ros,y_ros = ros.fit_resample(x,y)\n",
    "\n",
    "# # oversampling dataset \n",
    "# x_train,x_test,y_train,y_test =train_test_split(x_ros,y_ros,test_size= 0.3)\n",
    "\n",
    "# from sklearn.neighbors import KNeighborsClassifier \n",
    "\n",
    "# knn_model = KNeighborsClassifier(n_neighbors=5,p=2,metric='minkowski')  # by default it will construct 50 trees\n",
    "\n",
    "# # gini , entrpoy     ===  by default  gini \n",
    "\n",
    "# # training the model \n",
    "# # during training both inputs and ouput \n",
    "\n",
    "# knn_model.fit(x_train,y_train)\n",
    "\n",
    "# # during testing  only inputs \n",
    "\n",
    "# pred = knn_model.predict(x_test)  # y_test \n",
    "\n",
    "# # calculating accuracy \n",
    "# from sklearn.metrics import accuracy_score \n",
    "# score = accuracy_score(y_test,pred)\n",
    "# print(score)"
   ]
  },
  {
   "cell_type": "code",
   "execution_count": 41,
   "metadata": {},
   "outputs": [
    {
     "name": "stdout",
     "output_type": "stream",
     "text": [
      "0.7662337662337663\n"
     ]
    }
   ],
   "source": [
    "from sklearn.naive_bayes import GaussianNB\n",
    "\n",
    "nb_model = GaussianNB()\n",
    "\n",
    "# gini , entrpoy     ===  by default  gini \n",
    "\n",
    "# training the model \n",
    "# during training both inputs and ouput \n",
    "\n",
    "nb_model.fit(x_train,y_train)\n",
    "\n",
    "# during testing  only inputs \n",
    "\n",
    "pred = nb_model.predict(x_test)  # y_test \n",
    "\n",
    "# calculating accuracy \n",
    "from sklearn.metrics import accuracy_score \n",
    "score = accuracy_score(y_test,pred)\n",
    "print(score)\n",
    "\n"
   ]
  },
  {
   "cell_type": "code",
   "execution_count": 10,
   "metadata": {},
   "outputs": [],
   "source": [
    "# from imblearn.over_sampling import RandomOverSampler \n",
    "# from imblearn.under_sampling import RandomUnderSampler \n",
    "\n",
    "# from collections import Counter \n",
    "# ros = RandomOverSampler()\n",
    "# x_ros,y_ros = ros.fit_resample(x,y)\n",
    "\n",
    "# # oversampling dataset \n",
    "# x_train,x_test,y_train,y_test =train_test_split(x_ros,y_ros,test_size= 0.3)\n",
    "\n",
    "# from sklearn.naive_bayes import GaussianNB\n",
    "\n",
    "# nb_model = GaussianNB()\n",
    "\n",
    "# # gini , entrpoy     ===  by default  gini \n",
    "\n",
    "# # training the model \n",
    "# # during training both inputs and ouput \n",
    "\n",
    "# nb_model.fit(x_train,y_train)\n",
    "\n",
    "# # during testing  only inputs \n",
    "\n",
    "# pred = nb_model.predict(x_test)  # y_test \n",
    "\n",
    "# # calculating accuracy \n",
    "# from sklearn.metrics import accuracy_score \n",
    "# score = accuracy_score(y_test,pred)\n",
    "# print(score)\n",
    "\n"
   ]
  },
  {
   "cell_type": "code",
   "execution_count": 42,
   "metadata": {},
   "outputs": [
    {
     "name": "stdout",
     "output_type": "stream",
     "text": [
      "0.7402597402597403\n"
     ]
    }
   ],
   "source": [
    "from sklearn.svm import SVC \n",
    "svm_model = SVC()\n",
    "\n",
    "svm_model.fit(x_train,y_train)\n",
    "\n",
    "# during testing  only inputs \n",
    "\n",
    "pred = svm_model.predict(x_test)  # y_test \n",
    "\n",
    "# calculating accuracy \n",
    "from sklearn.metrics import accuracy_score \n",
    "score = accuracy_score(y_test,pred)\n",
    "print(score)\n",
    "\n"
   ]
  },
  {
   "cell_type": "code",
   "execution_count": 11,
   "metadata": {},
   "outputs": [],
   "source": [
    "# from imblearn.over_sampling import RandomOverSampler \n",
    "# from imblearn.under_sampling import RandomUnderSampler \n",
    "\n",
    "# from collections import Counter \n",
    "# ros = RandomOverSampler()\n",
    "# x_ros,y_ros = ros.fit_resample(x,y)\n",
    "\n",
    "# # oversampling dataset \n",
    "# x_train,x_test,y_train,y_test =train_test_split(x_ros,y_ros,test_size= 0.3)\n",
    "\n",
    "# from sklearn.svm import SVC \n",
    "# svm_model = SVC()\n",
    "\n",
    "# svm_model.fit(x_train,y_train)\n",
    "\n",
    "# # during testing  only inputs \n",
    "\n",
    "# pred = svm_model.predict(x_test)  # y_test \n",
    "\n",
    "# # calculating accuracy \n",
    "# from sklearn.metrics import accuracy_score \n",
    "# score = accuracy_score(y_test,pred)\n",
    "# print(score)"
   ]
  },
  {
   "cell_type": "code",
   "execution_count": 3,
   "metadata": {},
   "outputs": [],
   "source": [
    "\n",
    "#  rf_model   rf model object which is giving better accuracy \n",
    "\n",
    "import pickle \n",
    "\n",
    "pickle.dump(rf_model,open('final_diabetes_model.pickle','wb'))\n",
    "\n",
    "# it will store in current working directory \n",
    "\n"
   ]
  },
  {
   "cell_type": "code",
   "execution_count": 22,
   "metadata": {},
   "outputs": [
    {
     "name": "stdout",
     "output_type": "stream",
     "text": [
      "0.6926406926406926\n"
     ]
    }
   ],
   "source": [
    "# boosting algorithms example \n",
    "\n",
    "# boosting can be applied both on top of classification and regression algorithms \n",
    "\n",
    "# adaboost \n",
    "\n",
    "from sklearn.ensemble import AdaBoostClassifier \n",
    "from sklearn.ensemble import AdaBoostRegressor \n",
    "from sklearn.tree import DecisionTreeClassifier\n",
    "# Read the data set \n",
    "import pandas as pd\n",
    "df = pd.read_csv(\"D:/files/diabetesIndia.csv\")\n",
    "\n",
    "# Data set preparation \n",
    "# train set and test set \n",
    "\n",
    "from sklearn.model_selection import train_test_split \n",
    "# train to train our model\n",
    "# test set to test our model \n",
    "\n",
    "# seperate inputs and outputs \n",
    "x = df.iloc[:,0:8]\n",
    "y=  df.iloc[:,-1]  #  df.iloc[:,8]\n",
    "x_train,x_test,y_train,y_test =train_test_split(x,y,test_size= 0.3) \n",
    "dt=DecisionTreeClassifier()\n",
    "\n",
    "ada= AdaBoostClassifier(n_estimators=100,base_estimator=dt,learning_rate=1)\n",
    "\n",
    "# learning_rate=1  ==== means which will consider all weak learners\n",
    "\n",
    "ada.fit(x_train,y_train)\n",
    "\n",
    "# during testing  only inputs \n",
    "\n",
    "pred = ada.predict(x_test)  # y_test \n",
    "\n",
    "# calculating accuracy \n",
    "from sklearn.metrics import accuracy_score \n",
    "score = accuracy_score(y_test,pred)\n",
    "print(score)"
   ]
  },
  {
   "cell_type": "code",
   "execution_count": 24,
   "metadata": {},
   "outputs": [
    {
     "name": "stdout",
     "output_type": "stream",
     "text": [
      "0.7792207792207793\n"
     ]
    }
   ],
   "source": [
    "\n",
    "# boosting algorithms example \n",
    "\n",
    "# boosting can be applied both on top of classification and regression algorithms \n",
    "\n",
    "# adaboost \n",
    "\n",
    "from sklearn.ensemble import GradientBoostingClassifier \n",
    "from sklearn.ensemble import GradientBoostingRegressor \n",
    "\n",
    "gbc = GradientBoostingClassifier(n_estimators=100,learning_rate=1,max_depth=1)\n",
    "\n",
    "gbc.fit(x_train,y_train)\n",
    "\n",
    "# during testing  only inputs \n",
    "\n",
    "pred = gbc.predict(x_test)  # y_test \n",
    "\n",
    "# calculating accuracy \n",
    "from sklearn.metrics import accuracy_score \n",
    "score = accuracy_score(y_test,pred)\n",
    "print(score)"
   ]
  },
  {
   "cell_type": "code",
   "execution_count": 25,
   "metadata": {},
   "outputs": [
    {
     "name": "stdout",
     "output_type": "stream",
     "text": [
      "0.7792207792207793\n"
     ]
    }
   ],
   "source": [
    "from xgboost import XGBClassifier\n",
    "xg=XGBClassifier()\n",
    "xg.fit(x_train,y_train)\n",
    "y_pred=xg.predict(x_test)\n",
    "score=accuracy_score(y_test,pred)\n",
    "print(score)\n"
   ]
  },
  {
   "cell_type": "code",
   "execution_count": null,
   "metadata": {},
   "outputs": [],
   "source": []
  }
 ],
 "metadata": {
  "kernelspec": {
   "display_name": "Python 3 (ipykernel)",
   "language": "python",
   "name": "python3"
  },
  "language_info": {
   "codemirror_mode": {
    "name": "ipython",
    "version": 3
   },
   "file_extension": ".py",
   "mimetype": "text/x-python",
   "name": "python",
   "nbconvert_exporter": "python",
   "pygments_lexer": "ipython3",
   "version": "3.9.13"
  }
 },
 "nbformat": 4,
 "nbformat_minor": 4
}
